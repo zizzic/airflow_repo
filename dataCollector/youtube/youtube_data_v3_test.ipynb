{
 "cells": [
  {
   "cell_type": "markdown",
   "id": "00beb10e-2716-4001-962a-98995dc8850d",
   "metadata": {},
   "source": [
    "```python\n",
    "pip install google-api-python-client\n",
    "```"
   ]
  },
  {
   "cell_type": "markdown",
   "id": "3701a403-5c9b-412a-b2bf-0779b2ee6219",
   "metadata": {},
   "source": [
    "# 쿼리를 구성하여 특정 유형의 리소스만 검색"
   ]
  },
  {
   "cell_type": "code",
   "execution_count": 13,
   "id": "43d51be5-9651-4e64-96f8-760cf7f8aeca",
   "metadata": {},
   "outputs": [],
   "source": [
    "from googleapiclient.discovery import build\n",
    "import pandas as pd"
   ]
  },
  {
   "cell_type": "code",
   "execution_count": 3,
   "id": "6ba0f010-fb7f-48b7-8a4e-015a06874296",
   "metadata": {},
   "outputs": [],
   "source": [
    "api_key = 'api_key'\n",
    "youtube = build('youtube', 'v3', developerKey=api_key)"
   ]
  },
  {
   "cell_type": "code",
   "execution_count": 18,
   "id": "f2b8581d-053a-4ade-87e2-aa9a12bf2624",
   "metadata": {},
   "outputs": [],
   "source": [
    "request = youtube.search().list(\n",
    "        part=\"snippet\",\n",
    "        maxResults=25,\n",
    "        q=\"하마\",\n",
    "        regionCode='kr'\n",
    "    )"
   ]
  },
  {
   "cell_type": "code",
   "execution_count": 19,
   "id": "af65e574-eefc-4e44-84e7-a3b1a23768f2",
   "metadata": {},
   "outputs": [],
   "source": [
    "response = request.execute()"
   ]
  },
  {
   "cell_type": "code",
   "execution_count": 27,
   "id": "7dfaf39f-441b-47f9-954a-6e6bb39a90c4",
   "metadata": {
    "scrolled": true
   },
   "outputs": [
    {
     "data": {
      "text/plain": [
       "{'kind': 'youtube#commentThread',\n",
       " 'etag': 'Zkg7mkg0YqBSX7gR-L7tU7lzj6Y',\n",
       " 'id': 'Ugw96HK4_tdahmAtMMd4AaABAg',\n",
       " 'snippet': {'channelId': 'UCsRIHt5FkbGc6cQtCxt-ufA',\n",
       "  'videoId': 'e5CA9H0RkUU',\n",
       "  'topLevelComment': {'kind': 'youtube#comment',\n",
       "   'etag': '5BrcwVCtkU4P9mLScsvF8G-QaK0',\n",
       "   'id': 'Ugw96HK4_tdahmAtMMd4AaABAg',\n",
       "   'snippet': {'channelId': 'UCsRIHt5FkbGc6cQtCxt-ufA',\n",
       "    'videoId': 'e5CA9H0RkUU',\n",
       "    'textDisplay': '진짜 신서유기는 계속봐도 웃김 ㅋㅋㅋㅋㅋ',\n",
       "    'textOriginal': '진짜 신서유기는 계속봐도 웃김 ㅋㅋㅋㅋㅋ',\n",
       "    'authorDisplayName': '@user-ly7nh1ng3n',\n",
       "    'authorProfileImageUrl': 'https://yt3.ggpht.com/_kAqzCtagVnAj-w4aIx_Uy-j-dEdUQUz2VHaSFj67iIofMjS2Y6-gYRmi5pyWa_yu2b4w8QBzQ=s48-c-k-c0x00ffffff-no-rj',\n",
       "    'authorChannelUrl': 'http://www.youtube.com/channel/UCsfNh0eavc00uUOuJJH8QZg',\n",
       "    'authorChannelId': {'value': 'UCsfNh0eavc00uUOuJJH8QZg'},\n",
       "    'canRate': True,\n",
       "    'viewerRating': 'none',\n",
       "    'likeCount': 0,\n",
       "    'publishedAt': '2024-01-26T16:55:40Z',\n",
       "    'updatedAt': '2024-01-26T16:55:58Z'}},\n",
       "  'canReply': True,\n",
       "  'totalReplyCount': 0,\n",
       "  'isPublic': True}}"
      ]
     },
     "execution_count": 27,
     "metadata": {},
     "output_type": "execute_result"
    }
   ],
   "source": [
    "response['items'][0]"
   ]
  },
  {
   "cell_type": "markdown",
   "id": "3e9a7a3f-b681-40ab-ba47-ddc7e60890dc",
   "metadata": {},
   "source": [
    "# 코멘트 검색"
   ]
  },
  {
   "cell_type": "code",
   "execution_count": 25,
   "id": "24fb3183-ca3d-4052-b93d-3b4cbab59569",
   "metadata": {},
   "outputs": [],
   "source": [
    "request = youtube.commentThreads().list(\n",
    "    part=\"snippet,replies\",\n",
    "    videoId=\"e5CA9H0RkUU\"\n",
    ")\n",
    "response = request.execute()"
   ]
  },
  {
   "cell_type": "code",
   "execution_count": 28,
   "id": "f45219ee-82e3-4e53-acfb-db8af824b53e",
   "metadata": {},
   "outputs": [
    {
     "data": {
      "text/plain": [
       "{'kind': 'youtube#commentThread',\n",
       " 'etag': 'Zkg7mkg0YqBSX7gR-L7tU7lzj6Y',\n",
       " 'id': 'Ugw96HK4_tdahmAtMMd4AaABAg',\n",
       " 'snippet': {'channelId': 'UCsRIHt5FkbGc6cQtCxt-ufA',\n",
       "  'videoId': 'e5CA9H0RkUU',\n",
       "  'topLevelComment': {'kind': 'youtube#comment',\n",
       "   'etag': '5BrcwVCtkU4P9mLScsvF8G-QaK0',\n",
       "   'id': 'Ugw96HK4_tdahmAtMMd4AaABAg',\n",
       "   'snippet': {'channelId': 'UCsRIHt5FkbGc6cQtCxt-ufA',\n",
       "    'videoId': 'e5CA9H0RkUU',\n",
       "    'textDisplay': '진짜 신서유기는 계속봐도 웃김 ㅋㅋㅋㅋㅋ',\n",
       "    'textOriginal': '진짜 신서유기는 계속봐도 웃김 ㅋㅋㅋㅋㅋ',\n",
       "    'authorDisplayName': '@user-ly7nh1ng3n',\n",
       "    'authorProfileImageUrl': 'https://yt3.ggpht.com/_kAqzCtagVnAj-w4aIx_Uy-j-dEdUQUz2VHaSFj67iIofMjS2Y6-gYRmi5pyWa_yu2b4w8QBzQ=s48-c-k-c0x00ffffff-no-rj',\n",
       "    'authorChannelUrl': 'http://www.youtube.com/channel/UCsfNh0eavc00uUOuJJH8QZg',\n",
       "    'authorChannelId': {'value': 'UCsfNh0eavc00uUOuJJH8QZg'},\n",
       "    'canRate': True,\n",
       "    'viewerRating': 'none',\n",
       "    'likeCount': 0,\n",
       "    'publishedAt': '2024-01-26T16:55:40Z',\n",
       "    'updatedAt': '2024-01-26T16:55:58Z'}},\n",
       "  'canReply': True,\n",
       "  'totalReplyCount': 0,\n",
       "  'isPublic': True}}"
      ]
     },
     "execution_count": 28,
     "metadata": {},
     "output_type": "execute_result"
    }
   ],
   "source": [
    "response['items'][0]"
   ]
  },
  {
   "cell_type": "markdown",
   "id": "ab353a1c-a9a6-485e-9bb7-d6c6ff7e59f6",
   "metadata": {},
   "source": [
    "# 특정 video id 를 사용한 영상 정보 가져오기"
   ]
  },
  {
   "cell_type": "code",
   "execution_count": 28,
   "id": "4f0cb8a7-4ef5-41a1-8921-2520e5d6d532",
   "metadata": {},
   "outputs": [],
   "source": [
    "request = youtube.videos().list(\n",
    "    part=\"snippet,contentDetails,statistics,liveStreamingDetails\",\n",
    "    id=\"ON6XV5YCCiI\"\n",
    ")\n",
    "response = request.execute()"
   ]
  },
  {
   "cell_type": "code",
   "execution_count": 29,
   "id": "b6260c91-a30b-4978-8ef8-b997a9488c60",
   "metadata": {},
   "outputs": [
    {
     "data": {
      "text/plain": [
       "{'kind': 'youtube#video',\n",
       " 'etag': 'DOjhHQtYeGo7PBT-1IaFCHSJpw0',\n",
       " 'id': 'ON6XV5YCCiI',\n",
       " 'snippet': {'publishedAt': '2023-11-25T07:38:49Z',\n",
       "  'channelId': 'UCaKod3X1Tn4c7Ci0iUKcvzQ',\n",
       "  'title': '[🔴LIVE] 🏃\\u200d♂️런닝맨 몰아보기🏃\\u200d♂️ | 📺스브스 런닝맨 실시간 스트리밍📢',\n",
       "  'description': '런닝맨 ✨24시간 무한 스트리밍✨\\n달리고 달리고 또 달리고 끊임없이 달려..🏃\\u200d♂️🏃\\u200d♂️🏃\\u200d♂️\\n\\n⏰ 스트리밍 일정 : 11월 27일 00시 ~ \\n\\n#스브스 #스브스예능맛집 #런닝맨 #sbs #Runningman',\n",
       "  'thumbnails': {'default': {'url': 'https://i.ytimg.com/vi/ON6XV5YCCiI/default_live.jpg',\n",
       "    'width': 120,\n",
       "    'height': 90},\n",
       "   'medium': {'url': 'https://i.ytimg.com/vi/ON6XV5YCCiI/mqdefault_live.jpg',\n",
       "    'width': 320,\n",
       "    'height': 180},\n",
       "   'high': {'url': 'https://i.ytimg.com/vi/ON6XV5YCCiI/hqdefault_live.jpg',\n",
       "    'width': 480,\n",
       "    'height': 360},\n",
       "   'standard': {'url': 'https://i.ytimg.com/vi/ON6XV5YCCiI/sddefault_live.jpg',\n",
       "    'width': 640,\n",
       "    'height': 480},\n",
       "   'maxres': {'url': 'https://i.ytimg.com/vi/ON6XV5YCCiI/maxresdefault_live.jpg',\n",
       "    'width': 1280,\n",
       "    'height': 720}},\n",
       "  'channelTitle': '런닝맨 - 스브스 공식 채널',\n",
       "  'tags': ['런닝맨',\n",
       "   '이광수',\n",
       "   '유재석',\n",
       "   '김종국',\n",
       "   '지석진',\n",
       "   '양세찬',\n",
       "   '송지효',\n",
       "   '하하',\n",
       "   '전소민',\n",
       "   '개리',\n",
       "   '강개리',\n",
       "   '예능',\n",
       "   'RunningMan',\n",
       "   'Runningman',\n",
       "   'SBS',\n",
       "   'sbs',\n",
       "   'Entertainment',\n",
       "   'running man',\n",
       "   'runningman',\n",
       "   'Kim Jong Kook',\n",
       "   'Lee Kwang Soo',\n",
       "   'Ji Seok Jin',\n",
       "   'Yoo Jae Suk',\n",
       "   'Song Ji Hyo',\n",
       "   'Haha',\n",
       "   'Gary',\n",
       "   'Yang Se Chan',\n",
       "   'Jeon So Min',\n",
       "   'chạy đi chờ chi',\n",
       "   '에피소드',\n",
       "   '모음집',\n",
       "   '모음',\n",
       "   '이름표',\n",
       "   '이름표 떼기',\n",
       "   '레전드'],\n",
       "  'categoryId': '24',\n",
       "  'liveBroadcastContent': 'live',\n",
       "  'defaultLanguage': 'ko',\n",
       "  'localized': {'title': '[🔴LIVE] 🏃\\u200d♂️런닝맨 몰아보기🏃\\u200d♂️ | 📺스브스 런닝맨 실시간 스트리밍📢',\n",
       "   'description': '런닝맨 ✨24시간 무한 스트리밍✨\\n달리고 달리고 또 달리고 끊임없이 달려..🏃\\u200d♂️🏃\\u200d♂️🏃\\u200d♂️\\n\\n⏰ 스트리밍 일정 : 11월 27일 00시 ~ \\n\\n#스브스 #스브스예능맛집 #런닝맨 #sbs #Runningman'},\n",
       "  'defaultAudioLanguage': 'ko'},\n",
       " 'contentDetails': {'duration': 'P0D',\n",
       "  'dimension': '2d',\n",
       "  'definition': 'sd',\n",
       "  'caption': 'false',\n",
       "  'licensedContent': True,\n",
       "  'contentRating': {},\n",
       "  'projection': 'rectangular'},\n",
       " 'statistics': {'viewCount': '10780327',\n",
       "  'likeCount': '21269',\n",
       "  'favoriteCount': '0',\n",
       "  'commentCount': '0'},\n",
       " 'liveStreamingDetails': {'actualStartTime': '2023-11-27T00:55:35Z',\n",
       "  'scheduledStartTime': '2023-11-26T15:00:00Z',\n",
       "  'concurrentViewers': '5283',\n",
       "  'activeLiveChatId': 'Cg0KC09ONlhWNVlDQ2lJKicKGFVDYUtvZDNYMVRuNGM3Q2kwaVVLY3Z6URILT042WFY1WUNDaUk'}}"
      ]
     },
     "execution_count": 29,
     "metadata": {},
     "output_type": "execute_result"
    }
   ],
   "source": [
    "response['items'][0]"
   ]
  },
  {
   "cell_type": "markdown",
   "id": "961225ac-96e9-40b8-b8be-0623b5d8848b",
   "metadata": {},
   "source": [
    "# 카테고리 확인"
   ]
  },
  {
   "cell_type": "code",
   "execution_count": 26,
   "id": "efb237b1-dd20-4ba1-94ee-ddc15f0a10d3",
   "metadata": {},
   "outputs": [],
   "source": [
    "request = youtube.videoCategories().list(\n",
    "    part=\"snippet\",\n",
    "    regionCode=\"kr\"\n",
    ")\n",
    "response = request.execute()"
   ]
  },
  {
   "cell_type": "code",
   "execution_count": 27,
   "id": "a2864d24-2db9-4721-b7a6-b6ddba355cc3",
   "metadata": {},
   "outputs": [
    {
     "name": "stdout",
     "output_type": "stream",
     "text": [
      "Film & Animation : 1\n",
      "Autos & Vehicles : 2\n",
      "Music : 10\n",
      "Pets & Animals : 15\n",
      "Sports : 17\n",
      "Short Movies : 18\n",
      "Travel & Events : 19\n",
      "Gaming : 20\n",
      "Videoblogging : 21\n",
      "People & Blogs : 22\n",
      "Comedy : 23\n",
      "Entertainment : 24\n",
      "News & Politics : 25\n",
      "Howto & Style : 26\n",
      "Education : 27\n",
      "Science & Technology : 28\n",
      "Movies : 30\n",
      "Anime/Animation : 31\n",
      "Action/Adventure : 32\n",
      "Classics : 33\n",
      "Comedy : 34\n",
      "Documentary : 35\n",
      "Drama : 36\n",
      "Family : 37\n",
      "Foreign : 38\n",
      "Horror : 39\n",
      "Sci-Fi/Fantasy : 40\n",
      "Thriller : 41\n",
      "Shorts : 42\n",
      "Shows : 43\n",
      "Trailers : 44\n"
     ]
    }
   ],
   "source": [
    "for i in response['items']:\n",
    "    print(i['snippet']['title'], \":\", i['id'])"
   ]
  },
  {
   "cell_type": "markdown",
   "id": "003b05c3-9482-4b76-bfc8-c0fad4077c2d",
   "metadata": {},
   "source": [
    "# video 카테고리를 사용하여 가장 인기 많은 영상"
   ]
  },
  {
   "cell_type": "code",
   "execution_count": 51,
   "id": "86ed356e-b9c2-4f19-b71d-bac080ef1761",
   "metadata": {},
   "outputs": [],
   "source": [
    "request = youtube.videos().list(\n",
    "    part=\"snippet,contentDetails,statistics\",\n",
    "    chart=\"mostPopular\",\n",
    "    regionCode=\"KR\",\n",
    "    videoCategoryId=\"20\"\n",
    ")\n",
    "response = request.execute()"
   ]
  },
  {
   "cell_type": "code",
   "execution_count": 54,
   "id": "0f22a2c7-92a1-4fb8-ac18-7d1d25c6040a",
   "metadata": {},
   "outputs": [
    {
     "data": {
      "text/plain": [
       "{'kind': 'youtube#video',\n",
       " 'etag': 'B4Iyju846LbAbSurPkWXMCA794s',\n",
       " 'id': 'hvZtcOdkizQ',\n",
       " 'snippet': {'publishedAt': '2024-01-28T12:17:19Z',\n",
       "  'channelId': 'UCw1DsweY9b2AKGjV4kGJP1A',\n",
       "  'title': 'DRX vs BRO - HLE vs T1 | 2024 LCK 스프링 스플릿',\n",
       "  'description': '#LCK #HouseofLegends \\n\\n✅ LIVE & LIVE VOD\\n- LoL e스포츠 홈페이지:  https://lolesports.com/\\n- 네이버: https://sports.news.naver.com/esports/index.nhn\\n- 아프리카TV: http://bj.afreecatv.com/aflol\\n\\n✅ LCK 채널 구독 및 좋아요!\\n- LCK 공식 페이스북:  https://www.facebook.com/officiallck\\n- LCK 공식 인스타그램:  https://www.instagram.com/lckofficial/\\n- LCK 공식 틱톡 : https://tiktok.com/@lck_official\\n- LCK 공식 트위터 (영문):  https://twitter.com/LCK\\n\\n* LCK 채널의 모든 영상은 라이엇 게임즈 코리아의 자산으로, 본 콘텐츠를 무단 복제, 도용하거나 상업적으로 이용하는 행위는 금지되며 이를 위반할 경우 관련법에 의거 법적 처벌을 받을 수 있음을 알려드립니다.',\n",
       "  'thumbnails': {'default': {'url': 'https://i.ytimg.com/vi/hvZtcOdkizQ/default.jpg',\n",
       "    'width': 120,\n",
       "    'height': 90},\n",
       "   'medium': {'url': 'https://i.ytimg.com/vi/hvZtcOdkizQ/mqdefault.jpg',\n",
       "    'width': 320,\n",
       "    'height': 180},\n",
       "   'high': {'url': 'https://i.ytimg.com/vi/hvZtcOdkizQ/hqdefault.jpg',\n",
       "    'width': 480,\n",
       "    'height': 360},\n",
       "   'standard': {'url': 'https://i.ytimg.com/vi/hvZtcOdkizQ/sddefault.jpg',\n",
       "    'width': 640,\n",
       "    'height': 480},\n",
       "   'maxres': {'url': 'https://i.ytimg.com/vi/hvZtcOdkizQ/maxresdefault.jpg',\n",
       "    'width': 1280,\n",
       "    'height': 720}},\n",
       "  'channelTitle': 'LCK',\n",
       "  'tags': ['LCK',\n",
       "   'LCK Korea',\n",
       "   '롤챔스',\n",
       "   '티원',\n",
       "   '에욱',\n",
       "   'SNL',\n",
       "   'LCK썸네일',\n",
       "   '편집자',\n",
       "   '스크',\n",
       "   'T1',\n",
       "   'SKT',\n",
       "   'skt',\n",
       "   't1',\n",
       "   '썸네일',\n",
       "   'DK',\n",
       "   'GEN',\n",
       "   'DRX',\n",
       "   'KT',\n",
       "   'HLE',\n",
       "   'POG',\n",
       "   'MVP',\n",
       "   'WORLDS',\n",
       "   '롤드컵',\n",
       "   'MSI',\n",
       "   'ALLSTAR',\n",
       "   'lck 서머',\n",
       "   'lck 썸머',\n",
       "   'lck 써머',\n",
       "   'lck 스프링',\n",
       "   'lck summer',\n",
       "   'lck spring',\n",
       "   'LSB',\n",
       "   'NS',\n",
       "   '한화생명',\n",
       "   '농심',\n",
       "   '케이티',\n",
       "   '젠지',\n",
       "   '아프리카',\n",
       "   '담원',\n",
       "   '브리온',\n",
       "   'Brion',\n",
       "   'BRO',\n",
       "   '므시',\n",
       "   '올스타',\n",
       "   '매드무비',\n",
       "   '위클리 코맨터리',\n",
       "   'MIC Check',\n",
       "   'MIC 첵',\n",
       "   '롤분토론',\n",
       "   '동준좌',\n",
       "   '클템',\n",
       "   '성캐',\n",
       "   '위클리 매드무비',\n",
       "   '전프시',\n",
       "   '오프더레코드',\n",
       "   '월드챔피언십',\n",
       "   '단톡',\n",
       "   '롤더넥',\n",
       "   '마이크체크',\n",
       "   '광동',\n",
       "   '광동프릭스',\n",
       "   'KDF',\n",
       "   'Kwangdong Freecs',\n",
       "   '베스트모먼트',\n",
       "   '롤리나잇',\n",
       "   '레알클래스',\n",
       "   '성캐쇼',\n",
       "   'LCK10주년',\n",
       "   '혓바닥터스',\n",
       "   '헬리오스',\n",
       "   '캡틴잭',\n",
       "   '빠른별',\n",
       "   '샤이',\n",
       "   '리브샌박',\n",
       "   '디플러스 기아',\n",
       "   '디플',\n",
       "   '플레임',\n",
       "   '시크릿보드룸',\n",
       "   '단군',\n",
       "   '리뷰데스크',\n",
       "   '포니',\n",
       "   '꼬꼬갓',\n",
       "   '고수진',\n",
       "   '배혜지',\n",
       "   '함예진',\n",
       "   '윤수빈',\n",
       "   '2023LCK',\n",
       "   '2023롤챔스',\n",
       "   '노페',\n",
       "   '후니',\n",
       "   '박진영'],\n",
       "  'categoryId': '20',\n",
       "  'liveBroadcastContent': 'none',\n",
       "  'defaultLanguage': 'ko',\n",
       "  'localized': {'title': 'DRX vs BRO - HLE vs T1 | 2024 LCK 스프링 스플릿',\n",
       "   'description': '#LCK #HouseofLegends \\n\\n✅ LIVE & LIVE VOD\\n- LoL e스포츠 홈페이지:  https://lolesports.com/\\n- 네이버: https://sports.news.naver.com/esports/index.nhn\\n- 아프리카TV: http://bj.afreecatv.com/aflol\\n\\n✅ LCK 채널 구독 및 좋아요!\\n- LCK 공식 페이스북:  https://www.facebook.com/officiallck\\n- LCK 공식 인스타그램:  https://www.instagram.com/lckofficial/\\n- LCK 공식 틱톡 : https://tiktok.com/@lck_official\\n- LCK 공식 트위터 (영문):  https://twitter.com/LCK\\n\\n* LCK 채널의 모든 영상은 라이엇 게임즈 코리아의 자산으로, 본 콘텐츠를 무단 복제, 도용하거나 상업적으로 이용하는 행위는 금지되며 이를 위반할 경우 관련법에 의거 법적 처벌을 받을 수 있음을 알려드립니다.'},\n",
       "  'defaultAudioLanguage': 'en'},\n",
       " 'contentDetails': {'duration': 'PT5H59M35S',\n",
       "  'dimension': '2d',\n",
       "  'definition': 'hd',\n",
       "  'caption': 'false',\n",
       "  'licensedContent': True,\n",
       "  'contentRating': {},\n",
       "  'projection': 'rectangular'},\n",
       " 'statistics': {'viewCount': '1974895',\n",
       "  'favoriteCount': '0',\n",
       "  'commentCount': '79'}}"
      ]
     },
     "execution_count": 54,
     "metadata": {},
     "output_type": "execute_result"
    }
   ],
   "source": [
    "response['items'][0]"
   ]
  },
  {
   "cell_type": "markdown",
   "id": "d06a6a09-4db4-4e4b-a344-b0e43d32c4e5",
   "metadata": {},
   "source": [
    "# live인 방송만 뽑아오기"
   ]
  },
  {
   "cell_type": "code",
   "execution_count": 1,
   "id": "a8b13d06-1bee-4f03-baf7-047f3c858989",
   "metadata": {},
   "outputs": [
    {
     "name": "stderr",
     "output_type": "stream",
     "text": [
      "C:\\Users\\PC\\AppData\\Local\\Temp\\ipykernel_17560\\2446556752.py:2: DeprecationWarning: \n",
      "Pyarrow will become a required dependency of pandas in the next major release of pandas (pandas 3.0),\n",
      "(to allow more performant data types, such as the Arrow string type, and better interoperability with other libraries)\n",
      "but was not found to be installed on your system.\n",
      "If this would cause problems for you,\n",
      "please provide us feedback at https://github.com/pandas-dev/pandas/issues/54466\n",
      "        \n",
      "  import pandas as pd\n"
     ]
    }
   ],
   "source": [
    "from googleapiclient.discovery import build\n",
    "import pandas as pd"
   ]
  },
  {
   "cell_type": "code",
   "execution_count": 52,
   "id": "6569bba1-2621-489d-b6d4-61b789090902",
   "metadata": {},
   "outputs": [],
   "source": [
    "request = youtube.search().list(\n",
    "    part=\"snippet\",\n",
    "    eventType=\"live\",\n",
    "    maxResults=25,\n",
    "    # videoCategoryId=20,\n",
    "    regionCode='KR',\n",
    "    type=\"video\"\n",
    ")\n",
    "response = request.execute()"
   ]
  },
  {
   "cell_type": "code",
   "execution_count": 55,
   "id": "35ec5844-8461-4ac7-87ba-6f3e319cbe8e",
   "metadata": {},
   "outputs": [
    {
     "data": {
      "text/plain": [
       "{'kind': 'youtube#searchResult',\n",
       " 'etag': '653UrlbMJyDV22-R10EmPjqpBz8',\n",
       " 'id': {'kind': 'youtube#video', 'videoId': 'I4bDgYHmw_0'},\n",
       " 'snippet': {'publishedAt': '2024-01-29T04:58:16Z',\n",
       "  'channelId': 'UCcQTRi69dsVYHN3exePtZ1A',\n",
       "  'title': '[🔴이슈] 가자전쟁 후 첫 미군 사망…이란 &quot;우리와 무관&quot; vs 바이든 &quot;보복하겠다&quot; 선언/중동 전면전 확대 가능성도/2024년 1월 29일(월)/KBS',\n",
       "  'description': '가자지구 전쟁 발발 이후 긴장이 고조되던 중동에서 미군이 처음으로 적의 공격에 사망하는 일이 발생했습니다. 미국에서 강력한 보복 ...',\n",
       "  'thumbnails': {'default': {'url': 'https://i.ytimg.com/vi/I4bDgYHmw_0/default_live.jpg',\n",
       "    'width': 120,\n",
       "    'height': 90},\n",
       "   'medium': {'url': 'https://i.ytimg.com/vi/I4bDgYHmw_0/mqdefault_live.jpg',\n",
       "    'width': 320,\n",
       "    'height': 180},\n",
       "   'high': {'url': 'https://i.ytimg.com/vi/I4bDgYHmw_0/hqdefault_live.jpg',\n",
       "    'width': 480,\n",
       "    'height': 360}},\n",
       "  'channelTitle': 'KBS News',\n",
       "  'liveBroadcastContent': 'live',\n",
       "  'publishTime': '2024-01-29T04:58:16Z'}}"
      ]
     },
     "execution_count": 55,
     "metadata": {},
     "output_type": "execute_result"
    }
   ],
   "source": [
    "response['items'][0]"
   ]
  },
  {
   "cell_type": "markdown",
   "id": "7b7a0bdf-6085-4afd-be2b-fe966ce4ed2d",
   "metadata": {},
   "source": [
    "# 특정 채널 ID를 가지고 있으면 live 추적 가능"
   ]
  },
  {
   "cell_type": "code",
   "execution_count": 41,
   "id": "ee4d62f6-96c8-4a18-b163-8a79ce9b5c38",
   "metadata": {},
   "outputs": [],
   "source": [
    "request = youtube.search().list(\n",
    "    part=\"snippet\",\n",
    "    eventType=\"live\",\n",
    "    maxResults=25,\n",
    "    regionCode='KR',\n",
    "    type=\"video\",\n",
    "    channelId='UCaKod3X1Tn4c7Ci0iUKcvzQ'\n",
    ")\n",
    "response = request.execute()"
   ]
  },
  {
   "cell_type": "code",
   "execution_count": 42,
   "id": "f2dd8b3a-06f5-429c-bcb0-dac03591973f",
   "metadata": {},
   "outputs": [
    {
     "data": {
      "text/plain": [
       "{'kind': 'youtube#searchListResponse',\n",
       " 'etag': 'ttmsTFJ4chnZlIiaDfAQQ-6SVTs',\n",
       " 'regionCode': 'KR',\n",
       " 'pageInfo': {'totalResults': 1, 'resultsPerPage': 1},\n",
       " 'items': [{'kind': 'youtube#searchResult',\n",
       "   'etag': 'lb-xm7ZqOlpA-nC7bCYRUdrOanc',\n",
       "   'id': {'kind': 'youtube#video', 'videoId': 'ON6XV5YCCiI'},\n",
       "   'snippet': {'publishedAt': '2023-11-25T07:38:49Z',\n",
       "    'channelId': 'UCaKod3X1Tn4c7Ci0iUKcvzQ',\n",
       "    'title': '[🔴LIVE] 🏃\\u200d♂️런닝맨 몰아보기🏃\\u200d♂️ | 📺스브스 런닝맨 실시간 스트리밍📢',\n",
       "    'description': '런닝맨 ✨24시간 무한 스트리밍✨ 달리고 달리고 또 달리고 끊임없이 달려..  \\u200d♂️  \\u200d♂️  \\u200d♂️ ⏰ 스트리밍 일정 : 11월 27일 00시 ...',\n",
       "    'thumbnails': {'default': {'url': 'https://i.ytimg.com/vi/ON6XV5YCCiI/default_live.jpg',\n",
       "      'width': 120,\n",
       "      'height': 90},\n",
       "     'medium': {'url': 'https://i.ytimg.com/vi/ON6XV5YCCiI/mqdefault_live.jpg',\n",
       "      'width': 320,\n",
       "      'height': 180},\n",
       "     'high': {'url': 'https://i.ytimg.com/vi/ON6XV5YCCiI/hqdefault_live.jpg',\n",
       "      'width': 480,\n",
       "      'height': 360}},\n",
       "    'channelTitle': '런닝맨 - 스브스 공식 채널',\n",
       "    'liveBroadcastContent': 'live',\n",
       "    'publishTime': '2023-11-25T07:38:49Z'}}]}"
      ]
     },
     "execution_count": 42,
     "metadata": {},
     "output_type": "execute_result"
    }
   ],
   "source": [
    "response"
   ]
  },
  {
   "cell_type": "markdown",
   "id": "2898219c-c4f0-41ce-bc87-7946bdc363c6",
   "metadata": {},
   "source": [
    "# 채널 정보"
   ]
  },
  {
   "cell_type": "code",
   "execution_count": 48,
   "id": "827ce6e6-15f7-471f-9c28-e241289c38e0",
   "metadata": {},
   "outputs": [
    {
     "data": {
      "text/plain": [
       "{'kind': 'youtube#channelListResponse',\n",
       " 'etag': 'rIqEixEUzlTahbpRQ_LO4K3H4f8',\n",
       " 'pageInfo': {'totalResults': 1, 'resultsPerPage': 5},\n",
       " 'items': [{'kind': 'youtube#channel',\n",
       "   'etag': 'xoSAU6HG_UEqKgGdBPLvZ_zqH3g',\n",
       "   'id': 'UCaKod3X1Tn4c7Ci0iUKcvzQ',\n",
       "   'snippet': {'title': '런닝맨 - 스브스 공식 채널',\n",
       "    'description': 'SBS Running Man은 SBS  [런닝맨] 공식 예능 스튜디오 입니다.\\n런닝맨에서 나왔던 화제있는 장면을 모아 구성한 [예능맛ZIP], 그리고 런닝맨 통해 선보였던\\n다양한 케미를 자랑하는 [케미 모음ZIP] 까지! 구독자분들이 웃음없이 볼 수 없는 다양한 contents로 찾아 뵙겠습니다.\\nSBS Running Man 의 많은 사랑 부탁드립니다.\\n\\n▶ Partnership & Sales inquiry: contentspartner@sbs.co.kr\\nⓒSBS. Corp ALL RIGHTS RESERVED',\n",
       "    'customUrl': '@sbsrunningman',\n",
       "    'publishedAt': '2011-03-22T03:58:14Z',\n",
       "    'thumbnails': {'default': {'url': 'https://yt3.ggpht.com/w_-LFDAZ6IuoN2cAETzjXALif41WE9uv0SxWQyViV1vb1xb7TJ51o8GBqg_1tl6tXm9DaDpKmw=s88-c-k-c0x00ffffff-no-rj',\n",
       "      'width': 88,\n",
       "      'height': 88},\n",
       "     'medium': {'url': 'https://yt3.ggpht.com/w_-LFDAZ6IuoN2cAETzjXALif41WE9uv0SxWQyViV1vb1xb7TJ51o8GBqg_1tl6tXm9DaDpKmw=s240-c-k-c0x00ffffff-no-rj',\n",
       "      'width': 240,\n",
       "      'height': 240},\n",
       "     'high': {'url': 'https://yt3.ggpht.com/w_-LFDAZ6IuoN2cAETzjXALif41WE9uv0SxWQyViV1vb1xb7TJ51o8GBqg_1tl6tXm9DaDpKmw=s800-c-k-c0x00ffffff-no-rj',\n",
       "      'width': 800,\n",
       "      'height': 800}},\n",
       "    'defaultLanguage': 'ko',\n",
       "    'localized': {'title': '런닝맨 - 스브스 공식 채널',\n",
       "     'description': 'SBS Running Man은 SBS  [런닝맨] 공식 예능 스튜디오 입니다.\\n런닝맨에서 나왔던 화제있는 장면을 모아 구성한 [예능맛ZIP], 그리고 런닝맨 통해 선보였던\\n다양한 케미를 자랑하는 [케미 모음ZIP] 까지! 구독자분들이 웃음없이 볼 수 없는 다양한 contents로 찾아 뵙겠습니다.\\nSBS Running Man 의 많은 사랑 부탁드립니다.\\n\\n▶ Partnership & Sales inquiry: contentspartner@sbs.co.kr\\nⓒSBS. Corp ALL RIGHTS RESERVED'},\n",
       "    'country': 'KR'},\n",
       "   'contentDetails': {'relatedPlaylists': {'likes': '',\n",
       "     'uploads': 'UUaKod3X1Tn4c7Ci0iUKcvzQ'}},\n",
       "   'statistics': {'viewCount': '5320487316',\n",
       "    'subscriberCount': '3180000',\n",
       "    'hiddenSubscriberCount': False,\n",
       "    'videoCount': '55928'}}]}"
      ]
     },
     "execution_count": 48,
     "metadata": {},
     "output_type": "execute_result"
    }
   ],
   "source": [
    "request = youtube.channels().list(\n",
    "    part=\"snippet,contentDetails,statistics\",\n",
    "    id=\"UCaKod3X1Tn4c7Ci0iUKcvzQ\"\n",
    ")\n",
    "response = request.execute()\n",
    "\n",
    "response"
   ]
  },
  {
   "cell_type": "code",
   "execution_count": null,
   "id": "cc7547ab-c1c5-4e40-a02c-131811d36d71",
   "metadata": {},
   "outputs": [],
   "source": []
  }
 ],
 "metadata": {
  "kernelspec": {
   "display_name": "Python 3 (ipykernel)",
   "language": "python",
   "name": "python3"
  },
  "language_info": {
   "codemirror_mode": {
    "name": "ipython",
    "version": 3
   },
   "file_extension": ".py",
   "mimetype": "text/x-python",
   "name": "python",
   "nbconvert_exporter": "python",
   "pygments_lexer": "ipython3",
   "version": "3.11.6"
  }
 },
 "nbformat": 4,
 "nbformat_minor": 5
}
